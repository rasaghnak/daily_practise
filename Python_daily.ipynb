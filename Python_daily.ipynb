{
  "nbformat": 4,
  "nbformat_minor": 0,
  "metadata": {
    "colab": {
      "provenance": [],
      "authorship_tag": "ABX9TyOOnvCeOMvvazfZjMxjwXAA",
      "include_colab_link": true
    },
    "kernelspec": {
      "name": "python3",
      "display_name": "Python 3"
    },
    "language_info": {
      "name": "python"
    }
  },
  "cells": [
    {
      "cell_type": "markdown",
      "metadata": {
        "id": "view-in-github",
        "colab_type": "text"
      },
      "source": [
        "<a href=\"https://colab.research.google.com/github/rasaghnak/daily_practise/blob/main/Python_daily.ipynb\" target=\"_parent\"><img src=\"https://colab.research.google.com/assets/colab-badge.svg\" alt=\"Open In Colab\"/></a>"
      ]
    },
    {
      "cell_type": "markdown",
      "source": [
        "Day 1 - python basics"
      ],
      "metadata": {
        "id": "st1D3QfJgPfu"
      }
    },
    {
      "cell_type": "code",
      "execution_count": null,
      "metadata": {
        "colab": {
          "base_uri": "https://localhost:8080/"
        },
        "id": "-UQ9R5X2gK5q",
        "outputId": "f31b5718-3e85-4083-a8e4-3b5045d24d44"
      },
      "outputs": [
        {
          "output_type": "stream",
          "name": "stdout",
          "text": [
            "17 is a prime number.\n"
          ]
        }
      ],
      "source": [
        "# write to check if a number is prime\n",
        "\n",
        "class PrimeChecker:\n",
        "    def is_prime(self, num):\n",
        "        \"\"\"\n",
        "        Checks if a given number is prime.\n",
        "\n",
        "        Args:\n",
        "            num: The number to check.\n",
        "\n",
        "        Returns:\n",
        "            True if the number is prime, False otherwise.\n",
        "        \"\"\"\n",
        "        if num <= 1:\n",
        "            return False\n",
        "        for i in range(2, int(num**0.5) + 1):\n",
        "            if num % i == 0:\n",
        "                return False\n",
        "        return True\n",
        "\n",
        "# Example usage:\n",
        "checker = PrimeChecker()\n",
        "number_to_check = 17\n",
        "\n",
        "if checker.is_prime(number_to_check):\n",
        "    print(f\"{number_to_check} is a prime number.\")\n",
        "else:\n",
        "    print(f\"{number_to_check} is not a prime number.\")"
      ]
    },
    {
      "cell_type": "code",
      "source": [
        "# fibonacci series sequence upto 100\n",
        "def fib(lst,num):\n",
        "  for i in range(num):\n",
        "    if lst[-1]+lst[-2]<0:\n",
        "      return \"not fib\"\n",
        "    else:\n",
        "      lst.append(lst[-1]+lst[-2])\n",
        "  return lst\n",
        "\n",
        "val = fib([0,1],100)\n",
        "print(val)"
      ],
      "metadata": {
        "colab": {
          "base_uri": "https://localhost:8080/"
        },
        "id": "0lrhccc1pmSe",
        "outputId": "1955dd70-aa53-48bf-e826-905799302fdb"
      },
      "execution_count": null,
      "outputs": [
        {
          "output_type": "stream",
          "name": "stdout",
          "text": [
            "[0, 1, 1, 2, 3, 5, 8, 13, 21, 34, 55, 89, 144, 233, 377, 610, 987, 1597, 2584, 4181, 6765, 10946, 17711, 28657, 46368, 75025, 121393, 196418, 317811, 514229, 832040, 1346269, 2178309, 3524578, 5702887, 9227465, 14930352, 24157817, 39088169, 63245986, 102334155, 165580141, 267914296, 433494437, 701408733, 1134903170, 1836311903, 2971215073, 4807526976, 7778742049, 12586269025, 20365011074, 32951280099, 53316291173, 86267571272, 139583862445, 225851433717, 365435296162, 591286729879, 956722026041, 1548008755920, 2504730781961, 4052739537881, 6557470319842, 10610209857723, 17167680177565, 27777890035288, 44945570212853, 72723460248141, 117669030460994, 190392490709135, 308061521170129, 498454011879264, 806515533049393, 1304969544928657, 2111485077978050, 3416454622906707, 5527939700884757, 8944394323791464, 14472334024676221, 23416728348467685, 37889062373143906, 61305790721611591, 99194853094755497, 160500643816367088, 259695496911122585, 420196140727489673, 679891637638612258, 1100087778366101931, 1779979416004714189, 2880067194370816120, 4660046610375530309, 7540113804746346429, 12200160415121876738, 19740274219868223167, 31940434634990099905, 51680708854858323072, 83621143489848422977, 135301852344706746049, 218922995834555169026, 354224848179261915075, 573147844013817084101]\n"
          ]
        }
      ]
    },
    {
      "cell_type": "code",
      "source": [
        "# Reverse a string without using slicing.\n",
        "def rev_str(value):\n",
        "  empty_string = \"\"\n",
        "  for char in value:\n",
        "    empty_string = char + empty_string\n",
        "  return empty_string\n",
        "\n",
        "print(rev_str(\"hello\"))\n"
      ],
      "metadata": {
        "colab": {
          "base_uri": "https://localhost:8080/"
        },
        "id": "FCdIAdGEpo6B",
        "outputId": "1a482b9e-d360-4114-9f06-106d036048a9"
      },
      "execution_count": null,
      "outputs": [
        {
          "output_type": "stream",
          "name": "stdout",
          "text": [
            "olleh\n"
          ]
        }
      ]
    },
    {
      "cell_type": "code",
      "source": [
        "#Find the largest of three numbers.\n",
        "def mx_val(lst):\n",
        "  val = max(lst)\n",
        "  print(val)\n",
        "\n",
        "mx_val([1,2,3])"
      ],
      "metadata": {
        "colab": {
          "base_uri": "https://localhost:8080/"
        },
        "id": "FKP0wnkYKQ2K",
        "outputId": "80fbceef-5a04-4fab-e260-31c332b62bf9"
      },
      "execution_count": null,
      "outputs": [
        {
          "output_type": "stream",
          "name": "stdout",
          "text": [
            "3\n"
          ]
        }
      ]
    },
    {
      "cell_type": "code",
      "source": [
        "# Check if a year is a leap year.\n",
        "def is_leap(year):\n",
        "  if year%4==0 and year%100!=0 or year%400==0:\n",
        "    print(\"leap year\")\n",
        "  else:\n",
        "    print(\"not leap year\")\n",
        "\n",
        "is_leap(2000)"
      ],
      "metadata": {
        "colab": {
          "base_uri": "https://localhost:8080/"
        },
        "id": "P6fWFgdhLgFA",
        "outputId": "a35a1344-6d28-4fb1-f10a-a0a3885c391c"
      },
      "execution_count": null,
      "outputs": [
        {
          "output_type": "stream",
          "name": "stdout",
          "text": [
            "leap year\n"
          ]
        }
      ]
    },
    {
      "cell_type": "code",
      "source": [
        "#Count vowels and consonants in a string.\n"
      ],
      "metadata": {
        "id": "EKNuiWnHNRsC"
      },
      "execution_count": null,
      "outputs": []
    },
    {
      "cell_type": "markdown",
      "source": [],
      "metadata": {
        "id": "CcZmnvZCKQpk"
      }
    }
  ]
}