{
  "nbformat": 4,
  "nbformat_minor": 0,
  "metadata": {
    "colab": {
      "provenance": [],
      "authorship_tag": "ABX9TyO6zsn9093oVGndOYqJ+K9X",
      "include_colab_link": true
    },
    "kernelspec": {
      "name": "python3",
      "display_name": "Python 3"
    },
    "language_info": {
      "name": "python"
    }
  },
  "cells": [
    {
      "cell_type": "markdown",
      "metadata": {
        "id": "view-in-github",
        "colab_type": "text"
      },
      "source": [
        "<a href=\"https://colab.research.google.com/github/rasaghnak/daily_practise/blob/main/Python_daily.ipynb\" target=\"_parent\"><img src=\"https://colab.research.google.com/assets/colab-badge.svg\" alt=\"Open In Colab\"/></a>"
      ]
    },
    {
      "cell_type": "markdown",
      "source": [
        "Day 1 - python basics"
      ],
      "metadata": {
        "id": "st1D3QfJgPfu"
      }
    },
    {
      "cell_type": "code",
      "execution_count": null,
      "metadata": {
        "colab": {
          "base_uri": "https://localhost:8080/"
        },
        "id": "-UQ9R5X2gK5q",
        "outputId": "f31b5718-3e85-4083-a8e4-3b5045d24d44"
      },
      "outputs": [
        {
          "output_type": "stream",
          "name": "stdout",
          "text": [
            "17 is a prime number.\n"
          ]
        }
      ],
      "source": [
        "# write to check if a number is prime\n",
        "\n",
        "class PrimeChecker:\n",
        "    def is_prime(self, num):\n",
        "        \"\"\"\n",
        "        Checks if a given number is prime.\n",
        "\n",
        "        Args:\n",
        "            num: The number to check.\n",
        "\n",
        "        Returns:\n",
        "            True if the number is prime, False otherwise.\n",
        "        \"\"\"\n",
        "        if num <= 1:\n",
        "            return False\n",
        "        for i in range(2, int(num**0.5) + 1):\n",
        "            if num % i == 0:\n",
        "                return False\n",
        "        return True\n",
        "\n",
        "# Example usage:\n",
        "checker = PrimeChecker()\n",
        "number_to_check = 17\n",
        "\n",
        "if checker.is_prime(number_to_check):\n",
        "    print(f\"{number_to_check} is a prime number.\")\n",
        "else:\n",
        "    print(f\"{number_to_check} is not a prime number.\")"
      ]
    },
    {
      "cell_type": "code",
      "source": [
        "# fibonacci series sequence upto 100\n",
        "def fib(lst,num):\n",
        "  for i in range(num):\n",
        "    if lst[-1]+lst[-2]<0:\n",
        "      return \"not fib\"\n",
        "    else:\n",
        "      lst.append(lst[-1]+lst[-2])\n",
        "  return lst\n",
        "\n",
        "val = fib([0,1],100)\n",
        "print(val)"
      ],
      "metadata": {
        "colab": {
          "base_uri": "https://localhost:8080/"
        },
        "id": "0lrhccc1pmSe",
        "outputId": "1955dd70-aa53-48bf-e826-905799302fdb"
      },
      "execution_count": null,
      "outputs": [
        {
          "output_type": "stream",
          "name": "stdout",
          "text": [
            "[0, 1, 1, 2, 3, 5, 8, 13, 21, 34, 55, 89, 144, 233, 377, 610, 987, 1597, 2584, 4181, 6765, 10946, 17711, 28657, 46368, 75025, 121393, 196418, 317811, 514229, 832040, 1346269, 2178309, 3524578, 5702887, 9227465, 14930352, 24157817, 39088169, 63245986, 102334155, 165580141, 267914296, 433494437, 701408733, 1134903170, 1836311903, 2971215073, 4807526976, 7778742049, 12586269025, 20365011074, 32951280099, 53316291173, 86267571272, 139583862445, 225851433717, 365435296162, 591286729879, 956722026041, 1548008755920, 2504730781961, 4052739537881, 6557470319842, 10610209857723, 17167680177565, 27777890035288, 44945570212853, 72723460248141, 117669030460994, 190392490709135, 308061521170129, 498454011879264, 806515533049393, 1304969544928657, 2111485077978050, 3416454622906707, 5527939700884757, 8944394323791464, 14472334024676221, 23416728348467685, 37889062373143906, 61305790721611591, 99194853094755497, 160500643816367088, 259695496911122585, 420196140727489673, 679891637638612258, 1100087778366101931, 1779979416004714189, 2880067194370816120, 4660046610375530309, 7540113804746346429, 12200160415121876738, 19740274219868223167, 31940434634990099905, 51680708854858323072, 83621143489848422977, 135301852344706746049, 218922995834555169026, 354224848179261915075, 573147844013817084101]\n"
          ]
        }
      ]
    },
    {
      "cell_type": "code",
      "source": [
        "# Reverse a string without using slicing.\n",
        "def rev_str(value):\n",
        "  empty_string = \"\"\n",
        "  for char in value:\n",
        "    empty_string = char + empty_string\n",
        "  return empty_string\n",
        "\n",
        "print(rev_str(\"hello\"))\n"
      ],
      "metadata": {
        "colab": {
          "base_uri": "https://localhost:8080/"
        },
        "id": "FCdIAdGEpo6B",
        "outputId": "1a482b9e-d360-4114-9f06-106d036048a9"
      },
      "execution_count": null,
      "outputs": [
        {
          "output_type": "stream",
          "name": "stdout",
          "text": [
            "olleh\n"
          ]
        }
      ]
    },
    {
      "cell_type": "code",
      "source": [
        "#Find the largest of three numbers.\n",
        "def mx_val(lst):\n",
        "  val = max(lst)\n",
        "  print(val)\n",
        "\n",
        "mx_val([1,2,3])"
      ],
      "metadata": {
        "colab": {
          "base_uri": "https://localhost:8080/"
        },
        "id": "FKP0wnkYKQ2K",
        "outputId": "80fbceef-5a04-4fab-e260-31c332b62bf9"
      },
      "execution_count": null,
      "outputs": [
        {
          "output_type": "stream",
          "name": "stdout",
          "text": [
            "3\n"
          ]
        }
      ]
    },
    {
      "cell_type": "code",
      "source": [
        "# Check if a year is a leap year.\n",
        "def is_leap(year):\n",
        "  if year%4==0 and year%100!=0 or year%400==0:\n",
        "    print(\"leap year\")\n",
        "  else:\n",
        "    print(\"not leap year\")\n",
        "\n",
        "is_leap(2000)"
      ],
      "metadata": {
        "colab": {
          "base_uri": "https://localhost:8080/"
        },
        "id": "P6fWFgdhLgFA",
        "outputId": "a35a1344-6d28-4fb1-f10a-a0a3885c391c"
      },
      "execution_count": null,
      "outputs": [
        {
          "output_type": "stream",
          "name": "stdout",
          "text": [
            "leap year\n"
          ]
        }
      ]
    },
    {
      "cell_type": "code",
      "source": [
        "#Count vowels and consonants in a string.\n",
        "vows = \"aeiouAEIOU\"\n",
        "def count_v_c(value):\n",
        "  vowels =0\n",
        "  const = 0\n",
        "  for char in value:\n",
        "    if char in vows:\n",
        "      vowels+=1\n",
        "    else:\n",
        "      const+=1\n",
        "  print(f\"vowels are {vowels} and consonants are {const}\")\n",
        "\n",
        "count_v_c(\"hello\")\n"
      ],
      "metadata": {
        "id": "EKNuiWnHNRsC",
        "colab": {
          "base_uri": "https://localhost:8080/"
        },
        "outputId": "10c80271-d0fc-47a6-cb7e-217cddd818ac"
      },
      "execution_count": 1,
      "outputs": [
        {
          "output_type": "stream",
          "name": "stdout",
          "text": [
            "vowels are 2 and consonants are 3\n"
          ]
        }
      ]
    },
    {
      "cell_type": "code",
      "source": [
        "#Print multiplication table of 7.\n",
        "def mul_val(num):\n",
        "  for i in range(1,11):\n",
        "    print(f\"{num}*{i}={num*i}\")\n",
        "mul_val(7)"
      ],
      "metadata": {
        "colab": {
          "base_uri": "https://localhost:8080/"
        },
        "id": "hmwmRhfljJp6",
        "outputId": "c909ac74-19c2-440a-bf72-709579af3b3c"
      },
      "execution_count": 3,
      "outputs": [
        {
          "output_type": "stream",
          "name": "stdout",
          "text": [
            "7*1=7\n",
            "7*2=14\n",
            "7*3=21\n",
            "7*4=28\n",
            "7*5=35\n",
            "7*6=42\n",
            "7*7=49\n",
            "7*8=56\n",
            "7*9=63\n",
            "7*10=70\n"
          ]
        }
      ]
    },
    {
      "cell_type": "code",
      "source": [
        "#Sum of even numbers from 1–100.\n",
        "def evn_sum(num):\n",
        "  sum_hun=0\n",
        "  for i in range(1,num+1):\n",
        "    if i%2==0:\n",
        "      sum_hun+=i\n",
        "  print(sum_hun)\n",
        "evn_sum(100)"
      ],
      "metadata": {
        "colab": {
          "base_uri": "https://localhost:8080/"
        },
        "id": "-OX0Dwzrjhzu",
        "outputId": "cfe66a10-7a70-47fb-8400-e6f2ae7aa381"
      },
      "execution_count": 3,
      "outputs": [
        {
          "output_type": "stream",
          "name": "stdout",
          "text": [
            "2550\n"
          ]
        }
      ]
    },
    {
      "cell_type": "code",
      "source": [
        "#Create a simple calculator.\n",
        "def operation(a,b,operation):\n",
        "  lst=[1,2,3,4]\n",
        "  if operation==1:\n",
        "    print(a+b)\n",
        "  elif operation==2:\n",
        "    print(a-b)\n",
        "  elif operation==3:\n",
        "    print(a*b)\n",
        "  elif operation==4:\n",
        "    print(a/b)\n",
        "  else:\n",
        "    print(\"invalid operation\")\n",
        "\n",
        "operation(1,2,1)\n"
      ],
      "metadata": {
        "colab": {
          "base_uri": "https://localhost:8080/"
        },
        "id": "gcVZTKd9npG2",
        "outputId": "f291e7c6-29af-4e45-8da2-f4599f3dbe1d"
      },
      "execution_count": 4,
      "outputs": [
        {
          "output_type": "stream",
          "name": "stdout",
          "text": [
            "3\n"
          ]
        }
      ]
    },
    {
      "cell_type": "code",
      "source": [
        "#find factorial using loops\n",
        "def fact(num):\n",
        "  val=1\n",
        "  if num==0:\n",
        "    return 1\n",
        "  for i in range(1,num):\n",
        "    val*=i\n",
        "  return val\n",
        "result = fact(5)\n",
        "print(result)"
      ],
      "metadata": {
        "colab": {
          "base_uri": "https://localhost:8080/"
        },
        "id": "SaGz1jULofND",
        "outputId": "366052cb-7ba3-47d4-8c1b-7c3c83fb0c59"
      },
      "execution_count": 7,
      "outputs": [
        {
          "output_type": "stream",
          "name": "stdout",
          "text": [
            "24\n"
          ]
        }
      ]
    },
    {
      "cell_type": "code",
      "source": [
        "#Count word frequency in a paragraph\n",
        "# sent = \"I have a car I drive in car to school everyday, My car is in pink color\"\n",
        "# def word_freq(sent):\n",
        "#   words = sent.split()\n",
        "#   freq={}\n",
        "#   for word in words:\n",
        "#     if word in freq:\n",
        "#       freq[word]+=1\n",
        "#     else:\n",
        "#       freq[word]=1\n",
        "#   return freq\n",
        "# result = word_freq(sent)\n",
        "# print(result)\n",
        "# method 2\n",
        "sent = \"I have a car I drive in car to school everyday, My car is in pink color\"\n",
        "from collections import Counter\n",
        "import re\n",
        "\n",
        "def word_freq(sent):\n",
        "  words = re.findall(r'\\w+', sent)\n",
        "  freq = Counter(words)\n",
        "  return freq\n",
        "result = word_freq(sent)\n",
        "print(result)"
      ],
      "metadata": {
        "colab": {
          "base_uri": "https://localhost:8080/"
        },
        "id": "p1cuM5HJoo3Q",
        "outputId": "1f326660-6f55-49f5-fb9c-a07f8b238200"
      },
      "execution_count": 7,
      "outputs": [
        {
          "output_type": "stream",
          "name": "stdout",
          "text": [
            "Counter({'car': 3, 'I': 2, 'in': 2, 'have': 1, 'a': 1, 'drive': 1, 'to': 1, 'school': 1, 'everyday': 1, 'My': 1, 'is': 1, 'pink': 1, 'color': 1})\n"
          ]
        }
      ]
    },
    {
      "cell_type": "markdown",
      "source": [],
      "metadata": {
        "id": "CcZmnvZCKQpk"
      }
    }
  ]
}